{
 "cells": [
  {
   "cell_type": "code",
   "execution_count": 19,
   "metadata": {},
   "outputs": [],
   "source": [
    "import glob as g\n",
    "from skimage.io import imread\n",
    "from scipy.stats import skew, kurtosis, entropy\n",
    "from skimage.color import rgb2gray\n",
    "from skimage.exposure import histogram\n",
    "from sklearn.svm import SVC\n",
    "from sklearn.model_selection import train_test_split\n",
    "from sklearn.metrics import accuracy_score,confusion_matrix\n",
    "\n",
    "imagens = []\n",
    "rotulos = []\n",
    "dados = []\n",
    "\n",
    "cats = g.glob('./base/cats/*.jpg')\n",
    "dogs = g.glob('./base/dogs/*.jpg')\n",
    "\n",
    "for i in cats:\n",
    "    img = imread(i)\n",
    "    imagens.append(img)\n",
    "    rotulos.append(0)\n",
    "    \n",
    "for i in dogs:\n",
    "    img = imread(i)\n",
    "    imagens.append(img)\n",
    "    rotulos.append(1)\n",
    "\n",
    "for imagem in imagens:\n",
    "    animais = rgb2gray(imagem)\n",
    "    histograma = histogram(animais,nbins=256)[0]\n",
    "    \n",
    "    features =[]\n",
    "    \n",
    "    features.append(np.var(histograma))\n",
    "    features.append(np.mean(histograma))\n",
    "    features.append(skew(histograma))\n",
    "    features.append(kurtosis(histograma))\n",
    "    features.append(entropy(histograma))\n",
    "    features.append(np.power(histograma, 2).sum())\n",
    "    dados.append(features)\n",
    "\n",
    "classificador = SVC()\n",
    "dados_treino, dados_teste, rotulos_treino, rotulos_teste = train_test_split(dados,rotulos, test_size=0.3)\n",
    "\n",
    "classificador.fit(dados_treino,rotulos_treino)\n",
    "\n",
    "predicoes = classificador.predict(dados_teste)\n",
    "\n",
    "acc = accuracy_score(rotulos_teste,predicoes)\n",
    "cm = confusion_matrix(rotulos_teste,predicoes)"
   ]
  },
  {
   "cell_type": "code",
   "execution_count": 20,
   "metadata": {},
   "outputs": [
    {
     "data": {
      "text/plain": [
       "0.36666666666666664"
      ]
     },
     "execution_count": 20,
     "metadata": {},
     "output_type": "execute_result"
    }
   ],
   "source": [
    "acc"
   ]
  },
  {
   "cell_type": "code",
   "execution_count": 22,
   "metadata": {},
   "outputs": [
    {
     "data": {
      "text/plain": [
       "array([[ 0, 19],\n",
       "       [ 0, 11]], dtype=int64)"
      ]
     },
     "execution_count": 22,
     "metadata": {},
     "output_type": "execute_result"
    }
   ],
   "source": [
    "cm"
   ]
  },
  {
   "cell_type": "code",
   "execution_count": null,
   "metadata": {},
   "outputs": [],
   "source": []
  }
 ],
 "metadata": {
  "kernelspec": {
   "display_name": "Python 3",
   "language": "python",
   "name": "python3"
  },
  "language_info": {
   "codemirror_mode": {
    "name": "ipython",
    "version": 3
   },
   "file_extension": ".py",
   "mimetype": "text/x-python",
   "name": "python",
   "nbconvert_exporter": "python",
   "pygments_lexer": "ipython3",
   "version": "3.6.5"
  }
 },
 "nbformat": 4,
 "nbformat_minor": 2
}
